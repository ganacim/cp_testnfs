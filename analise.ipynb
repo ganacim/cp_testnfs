{
 "cells": [
  {
   "cell_type": "code",
   "execution_count": 20,
   "metadata": {},
   "outputs": [],
   "source": [
    "import json\n",
    "from matplotlib import pyplot as plt\n",
    "import numpy as np"
   ]
  },
  {
   "cell_type": "code",
   "execution_count": 4,
   "metadata": {},
   "outputs": [],
   "source": [
    "hosts = [ \"niagara\", \"nile\", \"kolyma\", \"euphrates\", ]\n",
    "site = [ \"local\", \"nfs\" ]\n",
    "bs = [ \"4k\", \"16k\", \"64k\", \"256k\", \"1m\", ]\n",
    "jobs = [ 1, 2, 4, 8, 16, ]\n",
    "file_size = [ \"1G\", \"5G\"]"
   ]
  },
  {
   "cell_type": "code",
   "execution_count": null,
   "metadata": {},
   "outputs": [],
   "source": [
    "# for h in hosts:\n",
    "#     for s in site:\n",
    "#         for b in bs:\n",
    "#             for j in jobs:\n",
    "#                 for f in file_size:\n",
    "#                     with open(f\"results/{h}_{s}_bs{b}_jobs{j}_size{f}_rand_write.txt\") as f:\n",
    "#                         data = json.load(f)\n",
    "h = \"niagara\"\n",
    "s = \"local\"\n",
    "b = \"4k\"\n",
    "j = 1\n",
    "f = \"1G\"\n",
    "modes = [ \"rand_write\", \"rand_read\", \"seq_write\", \"seq_read\", \"mixed_rw\" ]\n",
    "plot_data = {}\n",
    "for m in modes:\n",
    "    with open(f\"results/niagara_local_bs4k_jobs1_size1G_{m}.txt\") as fd:\n",
    "        data = json.load(fd)\n",
    "        if m.endswith(\"write\"):\n",
    "            plot_data[m] = float(data[\"jobs\"][0][\"write\"][\"bw\"])/1024\n",
    "        elif m.endswith(\"read\"):\n",
    "            plot_data[m] = float(data[\"jobs\"][0][\"read\"][\"bw\"])/1024\n",
    "        else:\n",
    "            plot_data[\"mixed_read\"] = float(data[\"jobs\"][0][\"read\"][\"bw\"])/1024\n",
    "            plot_data[\"mixed_write\"] = float(data[\"jobs\"][0][\"write\"][\"bw\"])/1024\n",
    "\n",
    "print(plot_data)\n",
    "\n",
    "width = 0.25\n",
    "x = np.arange(3)*0.6\n",
    "seqrand = [\"Sequential\", \"Random\", \"Mixed\"]\n",
    "\n",
    "name = {\n",
    "    \"Read\": [\"seq_read\", \"rand_read\", \"mixed_read\"],\n",
    "    \"Write\": [\"seq_write\", \"rand_write\", \"mixed_write\"],\n",
    "}\n",
    "\n",
    "fig, ax = plt.subplots(layout=\"constrained\", figsize=(10, 5))\n",
    "for i, (key, value) in enumerate(name.items()):\n",
    "    rects = ax.bar(x + i*width, [plot_data[v] for v in value], width=width, label=key)\n",
    "    ax.bar_label(rects, padding=3)\n",
    "\n",
    "ax.set_ylabel('Bandwidth (MB/s)')\n",
    "ax.set_title(f\"{h} {s} bs:{b} jobs:{j} size:{f}\")\n",
    "ax.set_xticks(x + width/2, seqrand)\n",
    "ax.legend(loc='best', ncols=3)\n",
    "ax.set_ylim(0)\n",
    "\n",
    "fig.show()"
   ]
  },
  {
   "cell_type": "code",
   "execution_count": null,
   "metadata": {},
   "outputs": [],
   "source": []
  }
 ],
 "metadata": {
  "kernelspec": {
   "display_name": "env",
   "language": "python",
   "name": "python3"
  },
  "language_info": {
   "codemirror_mode": {
    "name": "ipython",
    "version": 3
   },
   "file_extension": ".py",
   "mimetype": "text/x-python",
   "name": "python",
   "nbconvert_exporter": "python",
   "pygments_lexer": "ipython3",
   "version": "3.12.7"
  }
 },
 "nbformat": 4,
 "nbformat_minor": 2
}
