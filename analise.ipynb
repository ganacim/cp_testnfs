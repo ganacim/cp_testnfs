{
 "cells": [
  {
   "cell_type": "code",
   "execution_count": 20,
   "metadata": {},
   "outputs": [],
   "source": [
    "import json\n",
    "from matplotlib import pyplot as plt\n",
    "import numpy as np"
   ]
  },
  {
   "cell_type": "code",
   "execution_count": 4,
   "metadata": {},
   "outputs": [],
   "source": [
    "hosts = [ \"niagara\", \"nile\", \"kolyma\", \"euphrates\", ]\n",
    "site = [ \"local\", \"nfs\" ]\n",
    "bs = [ \"4k\", \"16k\", \"64k\", \"256k\", \"1m\", ]\n",
    "jobs = [ 1, 2, 4, 8, 16, ]\n",
    "file_size = [ \"1G\", \"5G\"]"
   ]
  },
  {
   "cell_type": "code",
   "execution_count": null,
   "metadata": {},
   "outputs": [],
   "source": [
    "def create_graph(host, site, bs, jobs, fsize):\n",
    "    modes = [ \"rand_write\", \"rand_read\", \"seq_write\", \"seq_read\", \"mixed_rw\" ]\n",
    "    plot_data = {}\n",
    "    for m in modes:\n",
    "        with open(f\"results/{host}_{site}_bs{bs}_jobs{jobs}_size{fsize}_{m}.txt\") as fd:\n",
    "            data = json.load(fd)\n",
    "            if m.endswith(\"write\"):\n",
    "                plot_data[m] = float(data[\"jobs\"][0][\"write\"][\"bw\"])/1024\n",
    "            elif m.endswith(\"read\"):\n",
    "                plot_data[m] = float(data[\"jobs\"][0][\"read\"][\"bw\"])/1024\n",
    "            else:\n",
    "                plot_data[\"mixed_read\"] = float(data[\"jobs\"][0][\"read\"][\"bw\"])/1024\n",
    "                plot_data[\"mixed_write\"] = float(data[\"jobs\"][0][\"write\"][\"bw\"])/1024\n",
    "\n",
    "    print(plot_data)\n",
    "\n",
    "    width = 0.25\n",
    "    x = np.arange(3)*0.6\n",
    "    seqrand = [\"Sequential\", \"Random\", \"Mixed\"]\n",
    "\n",
    "    name = {\n",
    "        \"Read\": [\"seq_read\", \"rand_read\", \"mixed_read\"],\n",
    "        \"Write\": [\"seq_write\", \"rand_write\", \"mixed_write\"],\n",
    "    }\n",
    "\n",
    "    fig, ax = plt.subplots(layout=\"constrained\", figsize=(10, 5))\n",
    "    for i, (key, value) in enumerate(name.items()):\n",
    "        rects = ax.bar(x + i*width, [plot_data[v] for v in value], width=width, label=key)\n",
    "        ax.bar_label(rects, padding=3)\n",
    "\n",
    "    ax.set_ylabel('Bandwidth (MB/s)')\n",
    "    ax.set_title(f\"{host} {site} bs:{bs} jobs:{jobs} size:{fsize}\")\n",
    "    ax.set_xticks(x + width/2, seqrand)\n",
    "    ax.legend(loc='best', ncols=3)\n",
    "    ax.set_ylim(0)\n",
    "\n",
    "    fig.show()\n",
    "\n",
    "host = \"niagara\"\n",
    "site = \"local\"\n",
    "bs = \"4k\"\n",
    "jobs = 1\n",
    "fsize = \"1G\"\n",
    "\n",
    "create_graph(\"niagara\", site, bs, jobs, fsize)\n",
    "create_graph(\"euphrates\", site, bs, jobs, fsize)\n",
    "create_graph(\"kolyma\", site, bs, jobs, fsize)\n",
    "create_graph(\"nile\", site, bs, jobs, fsize)"
   ]
  },
  {
   "cell_type": "code",
   "execution_count": null,
   "metadata": {},
   "outputs": [],
   "source": []
  }
 ],
 "metadata": {
  "kernelspec": {
   "display_name": "env",
   "language": "python",
   "name": "python3"
  },
  "language_info": {
   "codemirror_mode": {
    "name": "ipython",
    "version": 3
   },
   "file_extension": ".py",
   "mimetype": "text/x-python",
   "name": "python",
   "nbconvert_exporter": "python",
   "pygments_lexer": "ipython3",
   "version": "3.12.7"
  }
 },
 "nbformat": 4,
 "nbformat_minor": 2
}
